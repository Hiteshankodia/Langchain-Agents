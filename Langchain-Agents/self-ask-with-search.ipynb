{
 "cells": [
  {
   "cell_type": "code",
   "execution_count": 1,
   "metadata": {},
   "outputs": [
    {
     "name": "stdout",
     "output_type": "stream",
     "text": [
      "Note: you may need to restart the kernel to use updated packages.\n"
     ]
    },
    {
     "name": "stderr",
     "output_type": "stream",
     "text": [
      "\n",
      "[notice] A new release of pip is available: 24.3.1 -> 25.0.1\n",
      "[notice] To update, run: python.exe -m pip install --upgrade pip\n"
     ]
    }
   ],
   "source": [
    "%pip install --upgrade --quiet  langchain-openai tavily-python"
   ]
  },
  {
   "cell_type": "code",
   "execution_count": 2,
   "metadata": {},
   "outputs": [],
   "source": [
    "from langchain import hub \n",
    "from langchain.agents import AgentExecutor, create_self_ask_with_search_agent\n",
    "from langchain_community.llms import Fireworks \n",
    "from langchain_community.tools.tavily_search import TavilyAnswer\n"
   ]
  },
  {
   "cell_type": "code",
   "execution_count": 3,
   "metadata": {},
   "outputs": [],
   "source": [
    "tools = [TavilyAnswer(max_results=1, name=\"Intermediate Answer\")]"
   ]
  },
  {
   "cell_type": "code",
   "execution_count": 4,
   "metadata": {},
   "outputs": [
    {
     "name": "stderr",
     "output_type": "stream",
     "text": [
      "c:\\Demo Projects\\Agents\\Langchain-Agents\\venv\\Lib\\site-packages\\langsmith\\client.py:277: LangSmithMissingAPIKeyWarning: API key must be provided when using hosted LangSmith API\n",
      "  warnings.warn(\n"
     ]
    }
   ],
   "source": [
    "# Create Agent \n",
    "# Get the prompt to use - you can modify this!\n",
    "prompt = hub.pull(\"hwchase17/self-ask-with-search\")\n"
   ]
  },
  {
   "cell_type": "code",
   "execution_count": null,
   "metadata": {},
   "outputs": [],
   "source": [
    "from langchain_openai import AzureChatOpenAI\n",
    "llm = AzureChatOpenAI(\n",
    "   \n",
    ")"
   ]
  },
  {
   "cell_type": "code",
   "execution_count": 6,
   "metadata": {},
   "outputs": [],
   "source": [
    "agent = create_self_ask_with_search_agent(llm, tools=tools, prompt=prompt)"
   ]
  },
  {
   "cell_type": "code",
   "execution_count": 9,
   "metadata": {},
   "outputs": [],
   "source": [
    "# Create an agent executor by passing in the agent and tools\n",
    "agent_executor = AgentExecutor(agent=agent, tools=tools, verbose=True, handle_parsing_errors=True)"
   ]
  },
  {
   "cell_type": "code",
   "execution_count": 10,
   "metadata": {},
   "outputs": [
    {
     "name": "stdout",
     "output_type": "stream",
     "text": [
      "\n",
      "\n",
      "\u001b[1m> Entering new AgentExecutor chain...\u001b[0m\n",
      "\u001b[32;1m\u001b[1;3mYes.  \n",
      "\n",
      "Follow up: Who is the reigning men's U.S. Open champion?  \u001b[0m\u001b[36;1m\u001b[1;3mHTTPError('401 Client Error: Unauthorized for url: https://api.tavily.com/search')\u001b[0m\u001b[32;1m\u001b[1;3mCould not parse output: It seems there was an issue retrieving the information about the reigning men's U.S. Open champion due to an HTTP error. To answer your question, we would need to identify the current champion and their hometown. You can check the official U.S. Open website or recent sports news for the latest information. Let me know if you'd like further assistance!\n",
      "For troubleshooting, visit: https://python.langchain.com/docs/troubleshooting/errors/OUTPUT_PARSING_FAILURE \u001b[0mInvalid or incomplete response\u001b[32;1m\u001b[1;3mCould not parse output: It seems there was an issue retrieving the information about the reigning men's U.S. Open champion. To answer the question, follow-up queries are necessary to first identify the current champion and then determine their hometown. You can consult recent sports news or the official U.S. Open website for accurate information. Let me know if you'd like further assistance!\n",
      "For troubleshooting, visit: https://python.langchain.com/docs/troubleshooting/errors/OUTPUT_PARSING_FAILURE \u001b[0mInvalid or incomplete response\u001b[32;1m\u001b[1;3mCould not parse output: It seems there was an issue retrieving the information about the reigning men's U.S. Open champion. To answer the question, follow-up queries are needed to first identify the champion and then determine their hometown. However, I can guide you on how to find this information:\n",
      "\n",
      "1. **Who is the reigning men's U.S. Open champion?**  \n",
      "   Check recent sports news or the official U.S. Open website to find the name of the current champion.\n",
      "\n",
      "2. **What is their hometown?**  \n",
      "   Once you know the champion's name, search for their biography or profile to identify their hometown.\n",
      "\n",
      "Let me know if you'd like help with specific steps or further clarification!\n",
      "For troubleshooting, visit: https://python.langchain.com/docs/troubleshooting/errors/OUTPUT_PARSING_FAILURE \u001b[0mInvalid or incomplete response\u001b[32;1m\u001b[1;3mCould not parse output: It seems there was an issue retrieving the information about the reigning men's U.S. Open champion. To answer the question, follow-up queries are necessary:\n",
      "\n",
      "1. **Who is the reigning men's U.S. Open champion?**  \n",
      "   This can be found by checking recent sports news or the official U.S. Open website.\n",
      "\n",
      "2. **What is their hometown?**  \n",
      "   Once the champion's name is identified, their hometown can be determined by looking up their biography or profile.\n",
      "\n",
      "Would you like assistance with finding this information?\n",
      "For troubleshooting, visit: https://python.langchain.com/docs/troubleshooting/errors/OUTPUT_PARSING_FAILURE \u001b[0mInvalid or incomplete response\u001b[32;1m\u001b[1;3mCould not parse output: It seems there was an issue retrieving the information about the reigning men's U.S. Open champion and their hometown. To answer the question, follow-up queries are necessary:\n",
      "\n",
      "1. **Who is the reigning men's U.S. Open champion?**  \n",
      "   You can find this information by checking recent sports news or the official U.S. Open website.\n",
      "\n",
      "2. **What is their hometown?**  \n",
      "   Once the champion's name is identified, their hometown can be determined by looking up their biography or profile.\n",
      "\n",
      "If you'd like, I can assist you with finding this information or guide you on how to locate it. Let me know!\n",
      "For troubleshooting, visit: https://python.langchain.com/docs/troubleshooting/errors/OUTPUT_PARSING_FAILURE \u001b[0mInvalid or incomplete response\u001b[32;1m\u001b[1;3mCould not parse output: It appears there was an issue retrieving the necessary information about the reigning men's U.S. Open champion and their hometown. To answer this question, follow-up queries are required:\n",
      "\n",
      "1. **Who is the reigning men's U.S. Open champion?**  \n",
      "   This information can typically be found in recent sports news or the official U.S. Open website.\n",
      "\n",
      "2. **What is their hometown?**  \n",
      "   After identifying the champion, their hometown can be determined by looking up their biography or profile.\n",
      "\n",
      "Would you like assistance in finding this information?\n",
      "For troubleshooting, visit: https://python.langchain.com/docs/troubleshooting/errors/OUTPUT_PARSING_FAILURE \u001b[0mInvalid or incomplete response\u001b[32;1m\u001b[1;3mCould not parse output: It seems there was an issue retrieving the necessary information to answer the question. To determine the hometown of the reigning men's U.S. Open champion, follow-up queries are indeed necessary:\n",
      "\n",
      "1. **Who is the reigning men's U.S. Open champion?**  \n",
      "   This can be found by checking recent sports news or the official U.S. Open website.\n",
      "\n",
      "2. **What is their hometown?**  \n",
      "   Once the champion's name is identified, their hometown can be determined by looking up their biography or profile.\n",
      "\n",
      "If you'd like, I can guide you on how to locate this information or assist further. Let me know!\n",
      "For troubleshooting, visit: https://python.langchain.com/docs/troubleshooting/errors/OUTPUT_PARSING_FAILURE \u001b[0mInvalid or incomplete response\u001b[32;1m\u001b[1;3mCould not parse output: It seems there was an issue retrieving specific information about the reigning men's U.S. Open champion and their hometown. To answer this question, follow-up queries are indeed necessary:\n",
      "\n",
      "1. **Who is the reigning men's U.S. Open champion?**  \n",
      "   This information can be found by checking recent sports news or the official U.S. Open website.\n",
      "\n",
      "2. **What is their hometown?**  \n",
      "   Once the champion's name is identified, their hometown can be determined by looking up their biography or profile.\n",
      "\n",
      "Would you like assistance in locating this information?\n",
      "For troubleshooting, visit: https://python.langchain.com/docs/troubleshooting/errors/OUTPUT_PARSING_FAILURE \u001b[0mInvalid or incomplete response\u001b[32;1m\u001b[1;3mCould not parse output: It seems there was an issue retrieving the information about the reigning men's U.S. Open champion and their hometown. To answer this question, follow-up queries are indeed necessary:\n",
      "\n",
      "1. **Who is the reigning men's U.S. Open champion?**  \n",
      "   This can be determined by consulting recent sports news or the official U.S. Open website.\n",
      "\n",
      "2. **What is their hometown?**  \n",
      "   After identifying the champion, their hometown can be found through their biography or profile.\n",
      "\n",
      "Would you like me to guide you on how to locate this information or assist with specific steps?\n",
      "For troubleshooting, visit: https://python.langchain.com/docs/troubleshooting/errors/OUTPUT_PARSING_FAILURE \u001b[0mInvalid or incomplete response\u001b[32;1m\u001b[1;3mCould not parse output: It seems there was an issue retrieving the necessary information to determine the hometown of the reigning men's U.S. Open champion. To answer this question, follow-up queries are required:\n",
      "\n",
      "1. **Who is the reigning men's U.S. Open champion?**  \n",
      "   This information can be found by checking recent sports news or the official U.S. Open website.\n",
      "\n",
      "2. **What is their hometown?**  \n",
      "   Once the champion's name is identified, their hometown can be determined by looking up their biography or profile.\n",
      "\n",
      "Would you like assistance in finding this information or guidance on how to locate it?\n",
      "For troubleshooting, visit: https://python.langchain.com/docs/troubleshooting/errors/OUTPUT_PARSING_FAILURE \u001b[0mInvalid or incomplete response\u001b[32;1m\u001b[1;3mCould not parse output: It seems there was an issue determining the reigning men's U.S. Open champion and their hometown. To answer this question, follow-up queries are necessary:\n",
      "\n",
      "1. **Who is the reigning men's U.S. Open champion?**  \n",
      "   This information can be found by checking recent sports news or the official U.S. Open website.\n",
      "\n",
      "2. **What is their hometown?**  \n",
      "   Once the champion's name is identified, their hometown can be determined by looking up their biography or profile.\n",
      "\n",
      "Would you like me to assist further or guide you on how to find this information?\n",
      "For troubleshooting, visit: https://python.langchain.com/docs/troubleshooting/errors/OUTPUT_PARSING_FAILURE \u001b[0mInvalid or incomplete response\u001b[32;1m\u001b[1;3mCould not parse output: It seems there was an issue in retrieving the information about the reigning men's U.S. Open champion and their hometown. To answer this question, follow-up queries are indeed necessary:\n",
      "\n",
      "1. **Who is the reigning men's U.S. Open champion?**  \n",
      "   This can be determined by checking recent sports news or the official U.S. Open website.\n",
      "\n",
      "2. **What is their hometown?**  \n",
      "   Once the champion's name is identified, their hometown can be found by looking up their biography or profile.\n",
      "\n",
      "Would you like assistance in finding this information or guidance on how to locate it?\n",
      "For troubleshooting, visit: https://python.langchain.com/docs/troubleshooting/errors/OUTPUT_PARSING_FAILURE \u001b[0mInvalid or incomplete response\u001b[32;1m\u001b[1;3mCould not parse output: It seems there is an issue with retrieving the necessary information about the reigning men's U.S. Open champion and their hometown. To answer this question, follow-up queries are required:\n",
      "\n",
      "1. **Who is the reigning men's U.S. Open champion?**  \n",
      "   This information can be found by consulting recent sports news or the official U.S. Open website.\n",
      "\n",
      "2. **What is their hometown?**  \n",
      "   Once the champion's name is identified, their hometown can be determined by looking up their biography or profile.\n",
      "\n",
      "Would you like assistance in finding this information or guidance on how to locate it?\n",
      "For troubleshooting, visit: https://python.langchain.com/docs/troubleshooting/errors/OUTPUT_PARSING_FAILURE \u001b[0mInvalid or incomplete response\u001b[32;1m\u001b[1;3mCould not parse output: It seems there was an issue retrieving the necessary information to answer the question. To determine the hometown of the reigning men's U.S. Open champion, follow-up queries are indeed needed:\n",
      "\n",
      "1. **Who is the reigning men's U.S. Open champion?**  \n",
      "   This information can be found by checking recent sports news or the official U.S. Open website.\n",
      "\n",
      "2. **What is their hometown?**  \n",
      "   Once the champion's name is identified, their hometown can be determined by looking up their biography or profile.\n",
      "\n",
      "Would you like assistance in finding this information or guidance on how to locate it?\n",
      "For troubleshooting, visit: https://python.langchain.com/docs/troubleshooting/errors/OUTPUT_PARSING_FAILURE \u001b[0mInvalid or incomplete response\u001b[32;1m\u001b[1;3m\u001b[0m\n",
      "\n",
      "\u001b[1m> Finished chain.\u001b[0m\n"
     ]
    },
    {
     "data": {
      "text/plain": [
       "{'input': \"What is the hometown of the reigning men's U.S. Open champion?\",\n",
       " 'output': 'Agent stopped due to iteration limit or time limit.'}"
      ]
     },
     "execution_count": 10,
     "metadata": {},
     "output_type": "execute_result"
    }
   ],
   "source": [
    "agent_executor.invoke(\n",
    "    {\"input\": \"What is the hometown of the reigning men's U.S. Open champion?\"}\n",
    ")"
   ]
  },
  {
   "cell_type": "code",
   "execution_count": null,
   "metadata": {},
   "outputs": [],
   "source": []
  }
 ],
 "metadata": {
  "kernelspec": {
   "display_name": "venv",
   "language": "python",
   "name": "python3"
  },
  "language_info": {
   "codemirror_mode": {
    "name": "ipython",
    "version": 3
   },
   "file_extension": ".py",
   "mimetype": "text/x-python",
   "name": "python",
   "nbconvert_exporter": "python",
   "pygments_lexer": "ipython3",
   "version": "3.13.2"
  }
 },
 "nbformat": 4,
 "nbformat_minor": 2
}
