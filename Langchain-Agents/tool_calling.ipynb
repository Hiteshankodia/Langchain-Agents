{
 "cells": [
  {
   "cell_type": "code",
   "execution_count": 8,
   "metadata": {},
   "outputs": [
    {
     "name": "stdout",
     "output_type": "stream",
     "text": [
      "Requirement already satisfied: python_dotenv in c:\\demo projects\\agents\\langchain-agents\\venv\\lib\\site-packages (1.0.1)\n"
     ]
    },
    {
     "name": "stderr",
     "output_type": "stream",
     "text": [
      "\n",
      "[notice] A new release of pip is available: 24.3.1 -> 25.0.1\n",
      "[notice] To update, run: python.exe -m pip install --upgrade pip\n"
     ]
    }
   ],
   "source": [
    "!pip install python_dotenv"
   ]
  },
  {
   "cell_type": "code",
   "execution_count": 10,
   "metadata": {},
   "outputs": [
    {
     "data": {
      "text/plain": [
       "''"
      ]
     },
     "execution_count": 10,
     "metadata": {},
     "output_type": "execute_result"
    }
   ],
   "source": [
    "import os\n",
    "from dotenv import load_dotenv\n",
    "# Load the .env file\n",
    "load_dotenv()\n",
    "# Access environment variables\n",
    "os.getenv(\"GOOGLE_API_KEY\")"
   ]
  },
  {
   "cell_type": "code",
   "execution_count": null,
   "metadata": {},
   "outputs": [],
   "source": [
    "from langchain_google_genai import ChatGoogleGenerativeAI\n",
    "llm = ChatGoogleGenerativeAI()\n"
   ]
  },
  {
   "cell_type": "code",
   "execution_count": 5,
   "metadata": {},
   "outputs": [],
   "source": [
    "#Initialize Tools\n",
    "\n",
    "from langchain.agents import AgentExecutor, create_tool_calling_agent\n",
    "from langchain_community.tools.tavily_search import TavilySearchResults\n",
    "from langchain_core.prompts import ChatPromptTemplate\n",
    "tools = [TavilySearchResults(max_results = 1)]"
   ]
  },
  {
   "cell_type": "code",
   "execution_count": 18,
   "metadata": {},
   "outputs": [
    {
     "name": "stdout",
     "output_type": "stream",
     "text": [
      "Collecting langchain_google_vertexai\n",
      "  Downloading langchain_google_vertexai-2.0.16-py3-none-any.whl.metadata (3.8 kB)\n",
      "Collecting google-cloud-aiplatform<2.0.0,>=1.81.0 (from langchain_google_vertexai)\n",
      "  Downloading google_cloud_aiplatform-1.85.0-py3-none-any.whl.metadata (33 kB)\n",
      "Collecting google-cloud-storage<3.0.0,>=2.18.0 (from langchain_google_vertexai)\n",
      "  Using cached google_cloud_storage-2.19.0-py2.py3-none-any.whl.metadata (9.1 kB)\n",
      "Requirement already satisfied: httpx<0.29.0,>=0.28.0 in c:\\demo projects\\agents\\langchain-agents\\venv\\lib\\site-packages (from langchain_google_vertexai) (0.28.1)\n",
      "Requirement already satisfied: httpx-sse<0.5.0,>=0.4.0 in c:\\demo projects\\agents\\langchain-agents\\venv\\lib\\site-packages (from langchain_google_vertexai) (0.4.0)\n",
      "Requirement already satisfied: langchain-core<0.4,>=0.3.47 in c:\\demo projects\\agents\\langchain-agents\\venv\\lib\\site-packages (from langchain_google_vertexai) (0.3.47)\n",
      "Requirement already satisfied: pydantic<3.0,>=2.9 in c:\\demo projects\\agents\\langchain-agents\\venv\\lib\\site-packages (from langchain_google_vertexai) (2.10.6)\n",
      "Requirement already satisfied: google-api-core!=2.0.*,!=2.1.*,!=2.2.*,!=2.3.*,!=2.4.*,!=2.5.*,!=2.6.*,!=2.7.*,<3.0.0,>=1.34.1 in c:\\demo projects\\agents\\langchain-agents\\venv\\lib\\site-packages (from google-api-core[grpc]!=2.0.*,!=2.1.*,!=2.2.*,!=2.3.*,!=2.4.*,!=2.5.*,!=2.6.*,!=2.7.*,<3.0.0,>=1.34.1->google-cloud-aiplatform<2.0.0,>=1.81.0->langchain_google_vertexai) (2.24.2)\n",
      "Requirement already satisfied: google-auth<3.0.0,>=2.14.1 in c:\\demo projects\\agents\\langchain-agents\\venv\\lib\\site-packages (from google-cloud-aiplatform<2.0.0,>=1.81.0->langchain_google_vertexai) (2.38.0)\n",
      "Requirement already satisfied: proto-plus<2.0.0,>=1.22.3 in c:\\demo projects\\agents\\langchain-agents\\venv\\lib\\site-packages (from google-cloud-aiplatform<2.0.0,>=1.81.0->langchain_google_vertexai) (1.26.1)\n",
      "Requirement already satisfied: protobuf!=4.21.0,!=4.21.1,!=4.21.2,!=4.21.3,!=4.21.4,!=4.21.5,<6.0.0,>=3.20.2 in c:\\demo projects\\agents\\langchain-agents\\venv\\lib\\site-packages (from google-cloud-aiplatform<2.0.0,>=1.81.0->langchain_google_vertexai) (5.29.4)\n",
      "Requirement already satisfied: packaging>=14.3 in c:\\demo projects\\agents\\langchain-agents\\venv\\lib\\site-packages (from google-cloud-aiplatform<2.0.0,>=1.81.0->langchain_google_vertexai) (24.2)\n",
      "Collecting google-cloud-bigquery!=3.20.0,<4.0.0,>=1.15.0 (from google-cloud-aiplatform<2.0.0,>=1.81.0->langchain_google_vertexai)\n",
      "  Using cached google_cloud_bigquery-3.30.0-py2.py3-none-any.whl.metadata (7.9 kB)\n",
      "Collecting google-cloud-resource-manager<3.0.0,>=1.3.3 (from google-cloud-aiplatform<2.0.0,>=1.81.0->langchain_google_vertexai)\n",
      "  Downloading google_cloud_resource_manager-1.14.2-py3-none-any.whl.metadata (9.6 kB)\n",
      "Collecting shapely<3.0.0 (from google-cloud-aiplatform<2.0.0,>=1.81.0->langchain_google_vertexai)\n",
      "  Using cached shapely-2.0.7-cp313-cp313-win_amd64.whl.metadata (7.1 kB)\n",
      "Requirement already satisfied: typing-extensions in c:\\demo projects\\agents\\langchain-agents\\venv\\lib\\site-packages (from google-cloud-aiplatform<2.0.0,>=1.81.0->langchain_google_vertexai) (4.12.2)\n",
      "Collecting docstring-parser<1 (from google-cloud-aiplatform<2.0.0,>=1.81.0->langchain_google_vertexai)\n",
      "  Using cached docstring_parser-0.16-py3-none-any.whl.metadata (3.0 kB)\n",
      "Collecting google-cloud-core<3.0dev,>=2.3.0 (from google-cloud-storage<3.0.0,>=2.18.0->langchain_google_vertexai)\n",
      "  Downloading google_cloud_core-2.4.3-py2.py3-none-any.whl.metadata (2.7 kB)\n",
      "Collecting google-resumable-media>=2.7.2 (from google-cloud-storage<3.0.0,>=2.18.0->langchain_google_vertexai)\n",
      "  Using cached google_resumable_media-2.7.2-py2.py3-none-any.whl.metadata (2.2 kB)\n",
      "Requirement already satisfied: requests<3.0.0dev,>=2.18.0 in c:\\demo projects\\agents\\langchain-agents\\venv\\lib\\site-packages (from google-cloud-storage<3.0.0,>=2.18.0->langchain_google_vertexai) (2.32.3)\n",
      "Collecting google-crc32c<2.0dev,>=1.0 (from google-cloud-storage<3.0.0,>=2.18.0->langchain_google_vertexai)\n",
      "  Downloading google_crc32c-1.7.0.tar.gz (14 kB)\n",
      "  Installing build dependencies: started\n",
      "  Installing build dependencies: finished with status 'done'\n",
      "  Getting requirements to build wheel: started\n",
      "  Getting requirements to build wheel: finished with status 'done'\n",
      "  Preparing metadata (pyproject.toml): started\n",
      "  Preparing metadata (pyproject.toml): finished with status 'done'\n",
      "Requirement already satisfied: anyio in c:\\demo projects\\agents\\langchain-agents\\venv\\lib\\site-packages (from httpx<0.29.0,>=0.28.0->langchain_google_vertexai) (4.9.0)\n",
      "Requirement already satisfied: certifi in c:\\demo projects\\agents\\langchain-agents\\venv\\lib\\site-packages (from httpx<0.29.0,>=0.28.0->langchain_google_vertexai) (2025.1.31)\n",
      "Requirement already satisfied: httpcore==1.* in c:\\demo projects\\agents\\langchain-agents\\venv\\lib\\site-packages (from httpx<0.29.0,>=0.28.0->langchain_google_vertexai) (1.0.7)\n",
      "Requirement already satisfied: idna in c:\\demo projects\\agents\\langchain-agents\\venv\\lib\\site-packages (from httpx<0.29.0,>=0.28.0->langchain_google_vertexai) (3.10)\n",
      "Requirement already satisfied: h11<0.15,>=0.13 in c:\\demo projects\\agents\\langchain-agents\\venv\\lib\\site-packages (from httpcore==1.*->httpx<0.29.0,>=0.28.0->langchain_google_vertexai) (0.14.0)\n",
      "Requirement already satisfied: langsmith<0.4,>=0.1.125 in c:\\demo projects\\agents\\langchain-agents\\venv\\lib\\site-packages (from langchain-core<0.4,>=0.3.47->langchain_google_vertexai) (0.3.18)\n",
      "Requirement already satisfied: tenacity!=8.4.0,<10.0.0,>=8.1.0 in c:\\demo projects\\agents\\langchain-agents\\venv\\lib\\site-packages (from langchain-core<0.4,>=0.3.47->langchain_google_vertexai) (9.0.0)\n",
      "Requirement already satisfied: jsonpatch<2.0,>=1.33 in c:\\demo projects\\agents\\langchain-agents\\venv\\lib\\site-packages (from langchain-core<0.4,>=0.3.47->langchain_google_vertexai) (1.33)\n",
      "Requirement already satisfied: PyYAML>=5.3 in c:\\demo projects\\agents\\langchain-agents\\venv\\lib\\site-packages (from langchain-core<0.4,>=0.3.47->langchain_google_vertexai) (6.0.2)\n",
      "Requirement already satisfied: annotated-types>=0.6.0 in c:\\demo projects\\agents\\langchain-agents\\venv\\lib\\site-packages (from pydantic<3.0,>=2.9->langchain_google_vertexai) (0.7.0)\n",
      "Requirement already satisfied: pydantic-core==2.27.2 in c:\\demo projects\\agents\\langchain-agents\\venv\\lib\\site-packages (from pydantic<3.0,>=2.9->langchain_google_vertexai) (2.27.2)\n",
      "Requirement already satisfied: googleapis-common-protos<2.0.0,>=1.56.2 in c:\\demo projects\\agents\\langchain-agents\\venv\\lib\\site-packages (from google-api-core!=2.0.*,!=2.1.*,!=2.2.*,!=2.3.*,!=2.4.*,!=2.5.*,!=2.6.*,!=2.7.*,<3.0.0,>=1.34.1->google-api-core[grpc]!=2.0.*,!=2.1.*,!=2.2.*,!=2.3.*,!=2.4.*,!=2.5.*,!=2.6.*,!=2.7.*,<3.0.0,>=1.34.1->google-cloud-aiplatform<2.0.0,>=1.81.0->langchain_google_vertexai) (1.69.2)\n",
      "Requirement already satisfied: grpcio<2.0dev,>=1.33.2 in c:\\demo projects\\agents\\langchain-agents\\venv\\lib\\site-packages (from google-api-core[grpc]!=2.0.*,!=2.1.*,!=2.2.*,!=2.3.*,!=2.4.*,!=2.5.*,!=2.6.*,!=2.7.*,<3.0.0,>=1.34.1->google-cloud-aiplatform<2.0.0,>=1.81.0->langchain_google_vertexai) (1.71.0)\n",
      "Requirement already satisfied: grpcio-status<2.0.dev0,>=1.33.2 in c:\\demo projects\\agents\\langchain-agents\\venv\\lib\\site-packages (from google-api-core[grpc]!=2.0.*,!=2.1.*,!=2.2.*,!=2.3.*,!=2.4.*,!=2.5.*,!=2.6.*,!=2.7.*,<3.0.0,>=1.34.1->google-cloud-aiplatform<2.0.0,>=1.81.0->langchain_google_vertexai) (1.71.0)\n",
      "Requirement already satisfied: cachetools<6.0,>=2.0.0 in c:\\demo projects\\agents\\langchain-agents\\venv\\lib\\site-packages (from google-auth<3.0.0,>=2.14.1->google-cloud-aiplatform<2.0.0,>=1.81.0->langchain_google_vertexai) (5.5.2)\n",
      "Requirement already satisfied: pyasn1-modules>=0.2.1 in c:\\demo projects\\agents\\langchain-agents\\venv\\lib\\site-packages (from google-auth<3.0.0,>=2.14.1->google-cloud-aiplatform<2.0.0,>=1.81.0->langchain_google_vertexai) (0.4.1)\n",
      "Requirement already satisfied: rsa<5,>=3.1.4 in c:\\demo projects\\agents\\langchain-agents\\venv\\lib\\site-packages (from google-auth<3.0.0,>=2.14.1->google-cloud-aiplatform<2.0.0,>=1.81.0->langchain_google_vertexai) (4.9)\n",
      "Requirement already satisfied: python-dateutil<3.0dev,>=2.7.3 in c:\\demo projects\\agents\\langchain-agents\\venv\\lib\\site-packages (from google-cloud-bigquery!=3.20.0,<4.0.0,>=1.15.0->google-cloud-aiplatform<2.0.0,>=1.81.0->langchain_google_vertexai) (2.9.0.post0)\n",
      "Collecting grpc-google-iam-v1<1.0.0,>=0.14.0 (from google-cloud-resource-manager<3.0.0,>=1.3.3->google-cloud-aiplatform<2.0.0,>=1.81.0->langchain_google_vertexai)\n",
      "  Downloading grpc_google_iam_v1-0.14.2-py3-none-any.whl.metadata (9.1 kB)\n",
      "Requirement already satisfied: jsonpointer>=1.9 in c:\\demo projects\\agents\\langchain-agents\\venv\\lib\\site-packages (from jsonpatch<2.0,>=1.33->langchain-core<0.4,>=0.3.47->langchain_google_vertexai) (3.0.0)\n",
      "Requirement already satisfied: orjson<4.0.0,>=3.9.14 in c:\\demo projects\\agents\\langchain-agents\\venv\\lib\\site-packages (from langsmith<0.4,>=0.1.125->langchain-core<0.4,>=0.3.47->langchain_google_vertexai) (3.10.15)\n",
      "Requirement already satisfied: requests-toolbelt<2.0.0,>=1.0.0 in c:\\demo projects\\agents\\langchain-agents\\venv\\lib\\site-packages (from langsmith<0.4,>=0.1.125->langchain-core<0.4,>=0.3.47->langchain_google_vertexai) (1.0.0)\n",
      "Requirement already satisfied: zstandard<0.24.0,>=0.23.0 in c:\\demo projects\\agents\\langchain-agents\\venv\\lib\\site-packages (from langsmith<0.4,>=0.1.125->langchain-core<0.4,>=0.3.47->langchain_google_vertexai) (0.23.0)\n",
      "Requirement already satisfied: charset-normalizer<4,>=2 in c:\\demo projects\\agents\\langchain-agents\\venv\\lib\\site-packages (from requests<3.0.0dev,>=2.18.0->google-cloud-storage<3.0.0,>=2.18.0->langchain_google_vertexai) (3.4.1)\n",
      "Requirement already satisfied: urllib3<3,>=1.21.1 in c:\\demo projects\\agents\\langchain-agents\\venv\\lib\\site-packages (from requests<3.0.0dev,>=2.18.0->google-cloud-storage<3.0.0,>=2.18.0->langchain_google_vertexai) (2.3.0)\n",
      "Requirement already satisfied: numpy<3,>=1.14 in c:\\demo projects\\agents\\langchain-agents\\venv\\lib\\site-packages (from shapely<3.0.0->google-cloud-aiplatform<2.0.0,>=1.81.0->langchain_google_vertexai) (2.2.4)\n",
      "Requirement already satisfied: sniffio>=1.1 in c:\\demo projects\\agents\\langchain-agents\\venv\\lib\\site-packages (from anyio->httpx<0.29.0,>=0.28.0->langchain_google_vertexai) (1.3.1)\n",
      "Requirement already satisfied: pyasn1<0.7.0,>=0.4.6 in c:\\demo projects\\agents\\langchain-agents\\venv\\lib\\site-packages (from pyasn1-modules>=0.2.1->google-auth<3.0.0,>=2.14.1->google-cloud-aiplatform<2.0.0,>=1.81.0->langchain_google_vertexai) (0.6.1)\n",
      "Requirement already satisfied: six>=1.5 in c:\\demo projects\\agents\\langchain-agents\\venv\\lib\\site-packages (from python-dateutil<3.0dev,>=2.7.3->google-cloud-bigquery!=3.20.0,<4.0.0,>=1.15.0->google-cloud-aiplatform<2.0.0,>=1.81.0->langchain_google_vertexai) (1.17.0)\n",
      "Downloading langchain_google_vertexai-2.0.16-py3-none-any.whl (96 kB)\n",
      "Downloading google_cloud_aiplatform-1.85.0-py3-none-any.whl (7.3 MB)\n",
      "   ---------------------------------------- 0.0/7.3 MB ? eta -:--:--\n",
      "   ----- ---------------------------------- 1.0/7.3 MB 5.5 MB/s eta 0:00:02\n",
      "   ----------- ---------------------------- 2.1/7.3 MB 5.3 MB/s eta 0:00:01\n",
      "   ----------------- ---------------------- 3.1/7.3 MB 5.2 MB/s eta 0:00:01\n",
      "   ------------------------ --------------- 4.5/7.3 MB 5.3 MB/s eta 0:00:01\n",
      "   ------------------------------ --------- 5.5/7.3 MB 5.3 MB/s eta 0:00:01\n",
      "   ------------------------------------- -- 6.8/7.3 MB 5.4 MB/s eta 0:00:01\n",
      "   ---------------------------------------- 7.3/7.3 MB 5.3 MB/s eta 0:00:00\n",
      "Using cached google_cloud_storage-2.19.0-py2.py3-none-any.whl (131 kB)\n",
      "Using cached docstring_parser-0.16-py3-none-any.whl (36 kB)\n",
      "Using cached google_cloud_bigquery-3.30.0-py2.py3-none-any.whl (247 kB)\n",
      "Downloading google_cloud_core-2.4.3-py2.py3-none-any.whl (29 kB)\n",
      "Downloading google_cloud_resource_manager-1.14.2-py3-none-any.whl (394 kB)\n",
      "Using cached google_resumable_media-2.7.2-py2.py3-none-any.whl (81 kB)\n",
      "Using cached shapely-2.0.7-cp313-cp313-win_amd64.whl (1.4 MB)\n",
      "Downloading grpc_google_iam_v1-0.14.2-py3-none-any.whl (19 kB)\n",
      "Building wheels for collected packages: google-crc32c\n",
      "  Building wheel for google-crc32c (pyproject.toml): started\n",
      "  Building wheel for google-crc32c (pyproject.toml): finished with status 'done'\n",
      "  Created wheel for google-crc32c: filename=google_crc32c-1.7.0-py3-none-any.whl size=13290 sha256=2aa573cecf12bc522dbd25c17b1c165f53af82906586f3a860020b085e9a66a3\n",
      "  Stored in directory: c:\\users\\hiteshankodia1\\appdata\\local\\pip\\cache\\wheels\\97\\0b\\9a\\08a5f8dfe2ed3d27e3827707726a0856130f6828d723e6df70\n",
      "Successfully built google-crc32c\n",
      "Installing collected packages: shapely, google-crc32c, docstring-parser, google-resumable-media, grpc-google-iam-v1, google-cloud-core, google-cloud-storage, google-cloud-resource-manager, google-cloud-bigquery, google-cloud-aiplatform, langchain_google_vertexai\n",
      "Successfully installed docstring-parser-0.16 google-cloud-aiplatform-1.85.0 google-cloud-bigquery-3.30.0 google-cloud-core-2.4.3 google-cloud-resource-manager-1.14.2 google-cloud-storage-2.19.0 google-crc32c-1.7.0 google-resumable-media-2.7.2 grpc-google-iam-v1-0.14.2 langchain_google_vertexai-2.0.16 shapely-2.0.7\n"
     ]
    },
    {
     "name": "stderr",
     "output_type": "stream",
     "text": [
      "\n",
      "[notice] A new release of pip is available: 24.3.1 -> 25.0.1\n",
      "[notice] To update, run: python.exe -m pip install --upgrade pip\n"
     ]
    }
   ],
   "source": [
    "!pip install langchain_google_vertexai"
   ]
  },
  {
   "cell_type": "code",
   "execution_count": 1,
   "metadata": {},
   "outputs": [
    {
     "name": "stdout",
     "output_type": "stream",
     "text": [
      "Collecting langchain_openai\n",
      "  Downloading langchain_openai-0.3.9-py3-none-any.whl.metadata (2.3 kB)\n",
      "Requirement already satisfied: langchain-core<1.0.0,>=0.3.45 in c:\\demo projects\\agents\\langchain-agents\\venv\\lib\\site-packages (from langchain_openai) (0.3.47)\n",
      "Collecting openai<2.0.0,>=1.66.3 (from langchain_openai)\n",
      "  Downloading openai-1.68.2-py3-none-any.whl.metadata (25 kB)\n",
      "Collecting tiktoken<1,>=0.7 (from langchain_openai)\n",
      "  Using cached tiktoken-0.9.0-cp313-cp313-win_amd64.whl.metadata (6.8 kB)\n",
      "Requirement already satisfied: langsmith<0.4,>=0.1.125 in c:\\demo projects\\agents\\langchain-agents\\venv\\lib\\site-packages (from langchain-core<1.0.0,>=0.3.45->langchain_openai) (0.3.18)\n",
      "Requirement already satisfied: tenacity!=8.4.0,<10.0.0,>=8.1.0 in c:\\demo projects\\agents\\langchain-agents\\venv\\lib\\site-packages (from langchain-core<1.0.0,>=0.3.45->langchain_openai) (9.0.0)\n",
      "Requirement already satisfied: jsonpatch<2.0,>=1.33 in c:\\demo projects\\agents\\langchain-agents\\venv\\lib\\site-packages (from langchain-core<1.0.0,>=0.3.45->langchain_openai) (1.33)\n",
      "Requirement already satisfied: PyYAML>=5.3 in c:\\demo projects\\agents\\langchain-agents\\venv\\lib\\site-packages (from langchain-core<1.0.0,>=0.3.45->langchain_openai) (6.0.2)\n",
      "Requirement already satisfied: packaging<25,>=23.2 in c:\\demo projects\\agents\\langchain-agents\\venv\\lib\\site-packages (from langchain-core<1.0.0,>=0.3.45->langchain_openai) (24.2)\n",
      "Requirement already satisfied: typing-extensions>=4.7 in c:\\demo projects\\agents\\langchain-agents\\venv\\lib\\site-packages (from langchain-core<1.0.0,>=0.3.45->langchain_openai) (4.12.2)\n",
      "Requirement already satisfied: pydantic<3.0.0,>=2.7.4 in c:\\demo projects\\agents\\langchain-agents\\venv\\lib\\site-packages (from langchain-core<1.0.0,>=0.3.45->langchain_openai) (2.10.6)\n",
      "Requirement already satisfied: anyio<5,>=3.5.0 in c:\\demo projects\\agents\\langchain-agents\\venv\\lib\\site-packages (from openai<2.0.0,>=1.66.3->langchain_openai) (4.9.0)\n",
      "Collecting distro<2,>=1.7.0 (from openai<2.0.0,>=1.66.3->langchain_openai)\n",
      "  Using cached distro-1.9.0-py3-none-any.whl.metadata (6.8 kB)\n",
      "Requirement already satisfied: httpx<1,>=0.23.0 in c:\\demo projects\\agents\\langchain-agents\\venv\\lib\\site-packages (from openai<2.0.0,>=1.66.3->langchain_openai) (0.28.1)\n",
      "Collecting jiter<1,>=0.4.0 (from openai<2.0.0,>=1.66.3->langchain_openai)\n",
      "  Using cached jiter-0.9.0-cp313-cp313-win_amd64.whl.metadata (5.3 kB)\n",
      "Requirement already satisfied: sniffio in c:\\demo projects\\agents\\langchain-agents\\venv\\lib\\site-packages (from openai<2.0.0,>=1.66.3->langchain_openai) (1.3.1)\n",
      "Requirement already satisfied: tqdm>4 in c:\\demo projects\\agents\\langchain-agents\\venv\\lib\\site-packages (from openai<2.0.0,>=1.66.3->langchain_openai) (4.67.1)\n",
      "Collecting regex>=2022.1.18 (from tiktoken<1,>=0.7->langchain_openai)\n",
      "  Using cached regex-2024.11.6-cp313-cp313-win_amd64.whl.metadata (41 kB)\n",
      "Requirement already satisfied: requests>=2.26.0 in c:\\demo projects\\agents\\langchain-agents\\venv\\lib\\site-packages (from tiktoken<1,>=0.7->langchain_openai) (2.32.3)\n",
      "Requirement already satisfied: idna>=2.8 in c:\\demo projects\\agents\\langchain-agents\\venv\\lib\\site-packages (from anyio<5,>=3.5.0->openai<2.0.0,>=1.66.3->langchain_openai) (3.10)\n",
      "Requirement already satisfied: certifi in c:\\demo projects\\agents\\langchain-agents\\venv\\lib\\site-packages (from httpx<1,>=0.23.0->openai<2.0.0,>=1.66.3->langchain_openai) (2025.1.31)\n",
      "Requirement already satisfied: httpcore==1.* in c:\\demo projects\\agents\\langchain-agents\\venv\\lib\\site-packages (from httpx<1,>=0.23.0->openai<2.0.0,>=1.66.3->langchain_openai) (1.0.7)\n",
      "Requirement already satisfied: h11<0.15,>=0.13 in c:\\demo projects\\agents\\langchain-agents\\venv\\lib\\site-packages (from httpcore==1.*->httpx<1,>=0.23.0->openai<2.0.0,>=1.66.3->langchain_openai) (0.14.0)\n",
      "Requirement already satisfied: jsonpointer>=1.9 in c:\\demo projects\\agents\\langchain-agents\\venv\\lib\\site-packages (from jsonpatch<2.0,>=1.33->langchain-core<1.0.0,>=0.3.45->langchain_openai) (3.0.0)\n",
      "Requirement already satisfied: orjson<4.0.0,>=3.9.14 in c:\\demo projects\\agents\\langchain-agents\\venv\\lib\\site-packages (from langsmith<0.4,>=0.1.125->langchain-core<1.0.0,>=0.3.45->langchain_openai) (3.10.15)\n",
      "Requirement already satisfied: requests-toolbelt<2.0.0,>=1.0.0 in c:\\demo projects\\agents\\langchain-agents\\venv\\lib\\site-packages (from langsmith<0.4,>=0.1.125->langchain-core<1.0.0,>=0.3.45->langchain_openai) (1.0.0)\n",
      "Requirement already satisfied: zstandard<0.24.0,>=0.23.0 in c:\\demo projects\\agents\\langchain-agents\\venv\\lib\\site-packages (from langsmith<0.4,>=0.1.125->langchain-core<1.0.0,>=0.3.45->langchain_openai) (0.23.0)\n",
      "Requirement already satisfied: annotated-types>=0.6.0 in c:\\demo projects\\agents\\langchain-agents\\venv\\lib\\site-packages (from pydantic<3.0.0,>=2.7.4->langchain-core<1.0.0,>=0.3.45->langchain_openai) (0.7.0)\n",
      "Requirement already satisfied: pydantic-core==2.27.2 in c:\\demo projects\\agents\\langchain-agents\\venv\\lib\\site-packages (from pydantic<3.0.0,>=2.7.4->langchain-core<1.0.0,>=0.3.45->langchain_openai) (2.27.2)\n",
      "Requirement already satisfied: charset-normalizer<4,>=2 in c:\\demo projects\\agents\\langchain-agents\\venv\\lib\\site-packages (from requests>=2.26.0->tiktoken<1,>=0.7->langchain_openai) (3.4.1)\n",
      "Requirement already satisfied: urllib3<3,>=1.21.1 in c:\\demo projects\\agents\\langchain-agents\\venv\\lib\\site-packages (from requests>=2.26.0->tiktoken<1,>=0.7->langchain_openai) (2.3.0)\n",
      "Requirement already satisfied: colorama in c:\\demo projects\\agents\\langchain-agents\\venv\\lib\\site-packages (from tqdm>4->openai<2.0.0,>=1.66.3->langchain_openai) (0.4.6)\n",
      "Downloading langchain_openai-0.3.9-py3-none-any.whl (60 kB)\n",
      "Downloading openai-1.68.2-py3-none-any.whl (606 kB)\n",
      "   ---------------------------------------- 0.0/606.1 kB ? eta -:--:--\n",
      "   ---------------------------------------- 606.1/606.1 kB 2.9 MB/s eta 0:00:00\n",
      "Using cached tiktoken-0.9.0-cp313-cp313-win_amd64.whl (894 kB)\n",
      "Using cached distro-1.9.0-py3-none-any.whl (20 kB)\n",
      "Using cached jiter-0.9.0-cp313-cp313-win_amd64.whl (204 kB)\n",
      "Using cached regex-2024.11.6-cp313-cp313-win_amd64.whl (273 kB)\n",
      "Installing collected packages: regex, jiter, distro, tiktoken, openai, langchain_openai\n",
      "Successfully installed distro-1.9.0 jiter-0.9.0 langchain_openai-0.3.9 openai-1.68.2 regex-2024.11.6 tiktoken-0.9.0\n"
     ]
    },
    {
     "name": "stderr",
     "output_type": "stream",
     "text": [
      "\n",
      "[notice] A new release of pip is available: 24.3.1 -> 25.0.1\n",
      "[notice] To update, run: python.exe -m pip install --upgrade pip\n"
     ]
    }
   ],
   "source": [
    "!pip install langchain_openai"
   ]
  },
  {
   "cell_type": "code",
   "execution_count": null,
   "metadata": {},
   "outputs": [],
   "source": [
    "from langchain_openai import AzureChatOpenAI\n",
    "llm = AzureChatOpenAI(\n",
    ")"
   ]
  },
  {
   "cell_type": "code",
   "execution_count": 7,
   "metadata": {},
   "outputs": [],
   "source": [
    "#Creating Agent \n",
    "\n",
    "prompt = ChatPromptTemplate.from_messages(\n",
    "    [\n",
    "        (\"system\", \n",
    "         \"you are a helpful assistant. Make sure to use the tavily_search_results_json tool for information.\", \n",
    "         ),\n",
    "         (\"placeholder\", \"{chat_history}\"), \n",
    "         (\"human\", \"{input}\"), \n",
    "         (\"placeholder\", \"{agent_scratchpad}\"),\n",
    "    ]\n",
    ")\n",
    "\n",
    "#Construct the tools agent \n",
    "agent = create_tool_calling_agent(llm = llm, tools = tools, prompt=prompt)\n"
   ]
  },
  {
   "cell_type": "code",
   "execution_count": 8,
   "metadata": {},
   "outputs": [
    {
     "name": "stdout",
     "output_type": "stream",
     "text": [
      "\n",
      "\n",
      "\u001b[1m> Entering new AgentExecutor chain...\u001b[0m\n",
      "\u001b[32;1m\u001b[1;3m\n",
      "Invoking: `tavily_search_results_json` with `{'query': 'LangChain'}`\n",
      "\n",
      "\n",
      "\u001b[0m\u001b[36;1m\u001b[1;3mHTTPError('401 Client Error: Unauthorized for url: https://api.tavily.com/search')\u001b[0m\u001b[32;1m\u001b[1;3mLangChain is a framework designed for building applications powered by large language models (LLMs). It provides tools and abstractions to help developers create applications that can connect with external APIs, interact with various data sources, and manage complex workflows involving natural language processing. LangChain is particularly useful for tasks like question answering, summarization, chatbots, and more, leveraging the capabilities of LLMs to enable dynamic and intelligent behaviors in applications. It also supports integration with memory, chains, and agents to enhance interactivity and contextual understanding.\u001b[0m\n",
      "\n",
      "\u001b[1m> Finished chain.\u001b[0m\n"
     ]
    },
    {
     "data": {
      "text/plain": [
       "{'input': 'what is LangChain?',\n",
       " 'output': 'LangChain is a framework designed for building applications powered by large language models (LLMs). It provides tools and abstractions to help developers create applications that can connect with external APIs, interact with various data sources, and manage complex workflows involving natural language processing. LangChain is particularly useful for tasks like question answering, summarization, chatbots, and more, leveraging the capabilities of LLMs to enable dynamic and intelligent behaviors in applications. It also supports integration with memory, chains, and agents to enhance interactivity and contextual understanding.'}"
      ]
     },
     "execution_count": 8,
     "metadata": {},
     "output_type": "execute_result"
    }
   ],
   "source": [
    "# Run Agent \n",
    "\n",
    "\n",
    "# Create an agent executor by passing in the agent and tools\n",
    "agent_executor = AgentExecutor(agent=agent, tools=tools, verbose=True)\n",
    "agent_executor.invoke({\"input\": \"what is LangChain?\"})"
   ]
  },
  {
   "cell_type": "code",
   "execution_count": null,
   "metadata": {},
   "outputs": [],
   "source": []
  }
 ],
 "metadata": {
  "kernelspec": {
   "display_name": "venv",
   "language": "python",
   "name": "python3"
  },
  "language_info": {
   "codemirror_mode": {
    "name": "ipython",
    "version": 3
   },
   "file_extension": ".py",
   "mimetype": "text/x-python",
   "name": "python",
   "nbconvert_exporter": "python",
   "pygments_lexer": "ipython3",
   "version": "3.13.2"
  }
 },
 "nbformat": 4,
 "nbformat_minor": 2
}
